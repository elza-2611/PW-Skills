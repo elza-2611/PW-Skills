{
  "nbformat": 4,
  "nbformat_minor": 0,
  "metadata": {
    "colab": {
      "provenance": []
    },
    "kernelspec": {
      "name": "python3",
      "display_name": "Python 3"
    },
    "language_info": {
      "name": "python"
    }
  },
  "cells": [
    {
      "cell_type": "markdown",
      "source": [
        "Topic :Python basics variable"
      ],
      "metadata": {
        "id": "Hiwc5A9nLMDH"
      }
    },
    {
      "cell_type": "code",
      "source": [
        "'1. Declare two variables, `x` and `y`, and assign them integer values. Swap the values of these variables without using any temporary variable.'\n",
        "x=5\n",
        "y=2\n",
        "x,y=y,x\n",
        "print(x)"
      ],
      "metadata": {
        "colab": {
          "base_uri": "https://localhost:8080/"
        },
        "id": "4JF23fZ4FmIo",
        "outputId": "820687be-66da-4958-b58d-e58f6e6de7e3"
      },
      "execution_count": 1,
      "outputs": [
        {
          "output_type": "stream",
          "name": "stdout",
          "text": [
            "2\n"
          ]
        }
      ]
    },
    {
      "cell_type": "code",
      "source": [
        "print(y)"
      ],
      "metadata": {
        "colab": {
          "base_uri": "https://localhost:8080/"
        },
        "id": "AtH8plxCFmLs",
        "outputId": "e3faa687-567a-4cca-bb71-de2ce11ca144"
      },
      "execution_count": 2,
      "outputs": [
        {
          "output_type": "stream",
          "name": "stdout",
          "text": [
            "5\n"
          ]
        }
      ]
    },
    {
      "cell_type": "code",
      "source": [
        "'''2.Create a program that calculates the area of a rectangle. Take the length and width as inputs from the user and store them in variables.\n",
        "Calculate anddisplay the area.'''\n",
        "length=int(input('Please provide the length:'))\n",
        "width=int(input('Please provide the width:'))\n",
        "Area=length*width\n",
        "print('Area of Rectangle is', Area)"
      ],
      "metadata": {
        "colab": {
          "base_uri": "https://localhost:8080/"
        },
        "id": "gjc7mlH4FmO3",
        "outputId": "89ad0af8-8f3f-4b4e-bb0b-eed57913dea6"
      },
      "execution_count": 3,
      "outputs": [
        {
          "output_type": "stream",
          "name": "stdout",
          "text": [
            "Please provide the length:2\n",
            "Please provide the width:4\n",
            "Area of Rectangle is 8\n"
          ]
        }
      ]
    },
    {
      "cell_type": "code",
      "source": [
        "'''3.Write a Python program that converts temperatures from Celsius to Fahrenheit. Take the temperature in Celsius as input, store it in a variable,\n",
        "convert it to Fahrenheit, and display the result.'''\n",
        "Celsius=float(input('Please provide the Celsius temperature:'))\n",
        "Fahrenheit=(1.8*Celsius)+32\n",
        "print(Fahrenheit)"
      ],
      "metadata": {
        "colab": {
          "base_uri": "https://localhost:8080/"
        },
        "id": "4xiRmGwVFmSH",
        "outputId": "5d645f69-99c3-438c-b5e5-4dfa876f5734"
      },
      "execution_count": 4,
      "outputs": [
        {
          "output_type": "stream",
          "name": "stdout",
          "text": [
            "Please provide the Celsius temperature:25.2\n",
            "77.36\n"
          ]
        }
      ]
    },
    {
      "cell_type": "markdown",
      "source": [
        "TOPIC: String Based Questions\n"
      ],
      "metadata": {
        "id": "PhZAgQntGQsr"
      }
    },
    {
      "cell_type": "code",
      "source": [
        "'''1. Write a Python program that takes a string as input and prints the length of the string.'''\n",
        "a=input('Please provide a string:')\n",
        "print(len(a))"
      ],
      "metadata": {
        "colab": {
          "base_uri": "https://localhost:8080/"
        },
        "id": "H3wUzFOxFmYx",
        "outputId": "f9431c86-2639-4c38-e135-f5bff59a8421"
      },
      "execution_count": 7,
      "outputs": [
        {
          "output_type": "stream",
          "name": "stdout",
          "text": [
            "Please provide a string:India\n",
            "5\n"
          ]
        }
      ]
    },
    {
      "cell_type": "code",
      "source": [
        "'''2. Create a program that takes a sentence from the user and counts the number\n",
        "of vowels (a, e, i, o, u) in the string.'''\n",
        "b=input('Please enter a sentence:')\n",
        "vowel=b.lower().count('a')+b.lower().count('e')+b.lower().count('i')+b.lower().count('o')+b.lower().count('u')\n",
        "print('number of vowels in the given sentence is', vowel)\n"
      ],
      "metadata": {
        "colab": {
          "base_uri": "https://localhost:8080/"
        },
        "id": "dmMkcna8Fmbp",
        "outputId": "a7308f5b-dd17-4b30-f311-fb0c42bcdc1e"
      },
      "execution_count": 8,
      "outputs": [
        {
          "output_type": "stream",
          "name": "stdout",
          "text": [
            "Please enter a sentence:Part of PW Skill file\n",
            "number of vowels in the given sentence is 5\n"
          ]
        }
      ]
    },
    {
      "cell_type": "code",
      "source": [
        "'''3. Given a string, reverse the order of characters using string slicing and print\n",
        "the reversed string.'''\n",
        "c='pwskill'\n",
        "c[-1:-25:-1]"
      ],
      "metadata": {
        "colab": {
          "base_uri": "https://localhost:8080/",
          "height": 36
        },
        "id": "Jl4Lkd5vFmfA",
        "outputId": "71296918-8a4c-4897-b021-ede7bc2a37d0"
      },
      "execution_count": 12,
      "outputs": [
        {
          "output_type": "execute_result",
          "data": {
            "text/plain": [
              "'llikswp'"
            ],
            "application/vnd.google.colaboratory.intrinsic+json": {
              "type": "string"
            }
          },
          "metadata": {},
          "execution_count": 12
        }
      ]
    },
    {
      "cell_type": "code",
      "source": [
        "'''4. Write a program that takes a string as input and checks if it is a palindrome\n",
        "(reads the same forwards and backwards).'''\n",
        "d=input('Enter a string:')\n",
        "d[::-1]"
      ],
      "metadata": {
        "colab": {
          "base_uri": "https://localhost:8080/",
          "height": 53
        },
        "id": "TUbV_PcyG94m",
        "outputId": "776722d5-e83f-4d99-df50-c3ad981ffbd9"
      },
      "execution_count": 16,
      "outputs": [
        {
          "name": "stdout",
          "output_type": "stream",
          "text": [
            "Enter a string:malayalam\n"
          ]
        },
        {
          "output_type": "execute_result",
          "data": {
            "text/plain": [
              "'malayalam'"
            ],
            "application/vnd.google.colaboratory.intrinsic+json": {
              "type": "string"
            }
          },
          "metadata": {},
          "execution_count": 16
        }
      ]
    },
    {
      "cell_type": "code",
      "source": [
        "'''5. Create a program that takes a string as input and removes all the spaces from\n",
        "it. Print the modified string without spaces.'''\n",
        "e = input('Please enter the sentence:')\n",
        "\n",
        "# Use the replace method to remove spaces within the string\n",
        "f = e.replace(' ', '')\n",
        "\n",
        "# Print the result\n",
        "print(f)"
      ],
      "metadata": {
        "colab": {
          "base_uri": "https://localhost:8080/"
        },
        "id": "0lMQl7y_G-Ns",
        "outputId": "c0ee935b-4ec3-4a2d-8e38-99f8743263f4"
      },
      "execution_count": 22,
      "outputs": [
        {
          "output_type": "stream",
          "name": "stdout",
          "text": [
            "Please enter the sentence:   hello    world\n",
            "helloworld\n"
          ]
        }
      ]
    }
  ]
}